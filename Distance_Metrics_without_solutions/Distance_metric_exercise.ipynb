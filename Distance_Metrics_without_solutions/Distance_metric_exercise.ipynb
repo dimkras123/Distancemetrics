{
 "cells": [
  {
   "cell_type": "markdown",
   "metadata": {},
   "source": [
    "# Main Question - exercise in writing function\n",
    "Complete the DISTANCEMETRIC function.\n",
    "\n",
    "\n",
    "This function should take in 3 arguments:\n",
    "\n",
    "a, a tuple or array that describes a vector in n-dimensional space.\n",
    "\n",
    "b, a tuple or array that describes a vector in n-dimensional space (this must be the same length as a!)\n",
    "\n",
    "c, which tells us the norm to calculate the vector space (if set to 1, the result will be Manhattan, while 2 will calculate Euclidean distance)\n",
    "\n",
    "Since euclidean distance is the most common distance metric used, this function should default to using c=2 if no value is set for c.\n",
    "\n",
    "Include a parameter called verbose which is set to True by default. \n",
    "\n",
    "If true, the function should print out if the distance metric returned is a measurement of Manhattan, Euclidean, or Minkowski distance.\n",
    "\n",
    "\n",
    "This function should implement the minkowski distance equation above, and return the result.\n",
    "\n",
    "\n",
    "NOTE: Remember that for Manhattan Distance, you need to make use of np.abs() to get the absolute value of the distance for each dimension, since we don't have the squaring function to make this positive for us!\n",
    "\n",
    "HINT: Use np.power() as an easy way to implement both squares and square roots. np.power(a, 3) will return the cube of a, while np.power(a, 1/3) will return the cube root of 3. For more information on this function, see the numpy documentation!\n",
    "\n",
    "https://docs.scipy.org/doc/numpy-1.15.1/reference/generated/numpy.power.html"
   ]
  },
  {
   "cell_type": "code",
   "execution_count": 11,
   "metadata": {},
   "outputs": [
    {
     "name": "stdout",
     "output_type": "stream",
     "text": [
      "4.0\n",
      "2\n",
      "3.9999999999999996\n"
     ]
    }
   ],
   "source": [
    "\n",
    "import numpy as np\n",
    "def distance(a, b, c=2):\n",
    "    verbose=True\n",
    "    if len(a) != len(b):\n",
    "        print('a and b must have the same length')\n",
    "    else:\n",
    "        for i in range(len(a)):\n",
    "            manhattan_distance = 0\n",
    "            minkowski_distance = 0\n",
    "            if c == 1:\n",
    "                manhattan_distance += np.abs(a[i] - b[i])\n",
    "                return manhattan_distance\n",
    "            else:\n",
    "                minkowski_distance = np.power(np.abs(a[i] + b[i])**c, 1./c)\n",
    "                return minkowski_distance\n",
    "point1 = (3, 5)\n",
    "point2 = (1, 9)\n",
    "print(distance(point1, point2))\n",
    "print(distance(point1, point2, c=1))\n",
    "print(distance(point1, point2, c=3))\n",
    " "
   ]
  },
  {
   "cell_type": "markdown",
   "metadata": {},
   "source": [
    "# Question after above function is built"
   ]
  },
  {
   "cell_type": "code",
   "execution_count": 12,
   "metadata": {},
   "outputs": [
    {
     "data": {
      "text/plain": [
       "1.0"
      ]
     },
     "execution_count": 12,
     "metadata": {},
     "output_type": "execute_result"
    }
   ],
   "source": [
    "Point1 = (-2, -5.8, 14, 15, 7, 9)\n",
    "Point2 = (3, -9.2, -33, -21, 7, 9)\n",
    "distance(Point1,Point2,2)"
   ]
  },
  {
   "cell_type": "markdown",
   "metadata": {},
   "source": [
    "Calculate the Euclidean Distance between the following points in 6-dimensional space:\n",
    "\n",
    "Point 1: (-2, -5.8, 14, 15, 7, 9)\n",
    "\n",
    "Point 2: (3, -9.2, -33, -21, 7, 9)"
   ]
  },
  {
   "cell_type": "code",
   "execution_count": 16,
   "metadata": {},
   "outputs": [
    {
     "data": {
      "text/plain": [
       "21"
      ]
     },
     "execution_count": 16,
     "metadata": {},
     "output_type": "execute_result"
    }
   ],
   "source": [
    "Point1 = [0, 0, 0, 7, 16, 2, 0, 1, 12, ] \n",
    "Point2 = [21, -1, 35, 17, 14, 73, -22, 33, 3, ]\n",
    "\n",
    "distance(Point1,Point2,1)"
   ]
  },
  {
   "cell_type": "markdown",
   "metadata": {},
   "source": [
    "------"
   ]
  },
  {
   "cell_type": "markdown",
   "metadata": {},
   "source": [
    "Calculate the Manhattan Distance between the following points in 9-dimensional space:\n",
    "\n",
    "Point 1: [0, 0, 0, 7, 16, 2, 0, 1, 12, ]\n",
    "Point 2: [21, -1, 35, 17, 14, 73, -22, 33, 3, ]"
   ]
  },
  {
   "cell_type": "markdown",
   "metadata": {},
   "source": [
    "--------"
   ]
  },
  {
   "cell_type": "markdown",
   "metadata": {},
   "source": [
    "Calculate the Minkowski Distance with a norm of 3.5 between the following points:\n",
    "\n",
    "Point 1: (-32, 47, 223.4) Point 2: (883, 34, 199.5)"
   ]
  },
  {
   "cell_type": "code",
   "execution_count": 19,
   "metadata": {},
   "outputs": [
    {
     "data": {
      "text/plain": [
       "850.9999999999997"
      ]
     },
     "execution_count": 19,
     "metadata": {},
     "output_type": "execute_result"
    }
   ],
   "source": [
    "Point1 = (-32, 47, 223.4) \n",
    "Point2 = (883, 34, 199.5)\n",
    "distance(Point1,Point2,3.5)"
   ]
  },
  {
   "cell_type": "code",
   "execution_count": null,
   "metadata": {},
   "outputs": [],
   "source": []
  }
 ],
 "metadata": {
  "kernelspec": {
   "display_name": "Python 3",
   "language": "python",
   "name": "python3"
  },
  "language_info": {
   "codemirror_mode": {
    "name": "ipython",
    "version": 3
   },
   "file_extension": ".py",
   "mimetype": "text/x-python",
   "name": "python",
   "nbconvert_exporter": "python",
   "pygments_lexer": "ipython3",
   "version": "3.7.3"
  }
 },
 "nbformat": 4,
 "nbformat_minor": 2
}
